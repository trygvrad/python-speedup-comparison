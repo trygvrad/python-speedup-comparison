{
 "cells": [
  {
   "cell_type": "code",
   "execution_count": 1,
   "id": "98ef491f-1ad6-4441-9ee3-9925d1be34d2",
   "metadata": {},
   "outputs": [],
   "source": [
    "import numpy as np\n",
    "import numba\n",
    "import time"
   ]
  },
  {
   "cell_type": "code",
   "execution_count": 2,
   "id": "99eefafd-100b-452f-9e98-0d9a9b1a1af4",
   "metadata": {},
   "outputs": [],
   "source": [
    "\n",
    "def pdist_numpy_naive(As: np.ndarray, Bs: np.ndarray) -> np.ndarray:\n",
    "    (n, k) = As.shape\n",
    "    (m, k2) = Bs.shape\n",
    "    assert k == k2\n",
    "\n",
    "    deltas = As[:, None, :] - Bs[None, :, :]  # n,m,k\n",
    "    return np.linalg.norm(deltas, axis=2)\n",
    "\n",
    "\n",
    "def pdist_numpy_hybrid(As: np.ndarray, Bs: np.ndarray) -> np.ndarray:\n",
    "    (n, k) = As.shape\n",
    "    (m, k2) = Bs.shape\n",
    "    assert k == k2\n",
    "\n",
    "    out = np.empty((n,m))\n",
    "    for i, row in enumerate(As):\n",
    "        out[i,:] = np.linalg.norm(Bs-row[np.newaxis,:], axis=1)\n",
    "    return out\n",
    "\n",
    "\n",
    "@numba.njit\n",
    "def pdist_numba(As: np.ndarray, Bs: np.ndarray) -> np.ndarray:\n",
    "    (n, k) = As.shape\n",
    "    (m, k2) = Bs.shape\n",
    "    assert k == k2\n",
    "\n",
    "    res = np.empty((n, m), dtype=np.float64)\n",
    "    for i in range(n):\n",
    "        for j in range(m):\n",
    "            res[i, j] = np.linalg.norm(As[i] - Bs[j])\n",
    "    return res"
   ]
  },
  {
   "cell_type": "code",
   "execution_count": 3,
   "id": "f667ba59-78ee-472d-9337-b3f7456b5f74",
   "metadata": {},
   "outputs": [
    {
     "name": "stdout",
     "output_type": "stream",
     "text": [
      "naive numpy 2.02 s\n",
      "hybrid numpy 0.77 s\n",
      "numba 0.90 s\n"
     ]
    }
   ],
   "source": [
    "n, m, k = 2001, 1001, 300\n",
    "\n",
    "a = np.random.random((n,k))\n",
    "b = np.random.random((m,k))\n",
    "t0 = time.time()\n",
    "r0 = pdist_numpy_naive(a,b)\n",
    "t1 = time.time()\n",
    "print(f'naive numpy {t1-t0:.2f} s')\n",
    "\n",
    "\n",
    "t0 = time.time()\n",
    "r1 = pdist_numpy_hybrid(a,b)\n",
    "t1 = time.time()\n",
    "print(f'hybrid numpy {t1-t0:.2f} s')\n",
    "\n",
    "\n",
    "pdist_numba(a,b) # run once to ensure compilation\n",
    "\n",
    "t0 = time.time()\n",
    "r2 = pdist_numba(a,b)\n",
    "t1 = time.time()\n",
    "print(f'numba {t1-t0:.2f} s')"
   ]
  },
  {
   "cell_type": "code",
   "execution_count": 4,
   "id": "4377b55b-6d1d-44bf-ac75-2ac8b8b7192d",
   "metadata": {},
   "outputs": [],
   "source": [
    "\n",
    "cython_str = '''\n",
    "# cython: language_level=3\n",
    "# distutils: language=c\n",
    "# cython: cpp_locals=True\n",
    "# cythhon: binding=False\n",
    "# cython: infer_types=False\n",
    "# cython: wraparound=False\n",
    "# cython: boundscheck=False\n",
    "# cython: cdivision=True\n",
    "# cython: overflowcheck=False\n",
    "# cython: nonecheck=False\n",
    "# cython: initializedcheck=False\n",
    "# cython: always_allow_keywords=False\n",
    "# cython: c_api_binop_methods=True\n",
    "# distutils: define_macros=NPY_NO_DEPRECATED_API=NPY_1_7_API_VERSION\n",
    "\n",
    "\n",
    "# pdist_cython.pyx\n",
    "\n",
    "import numpy as np\n",
    "cimport numpy as npc\n",
    "from libc.math cimport sqrt\n",
    "#from cython.parallel import prange\n",
    "\n",
    "import cython\n",
    "cimport cython\n",
    "\n",
    "\n",
    "cdef double[:,:,] pdist_cython(const double[:,:,] As, const double[:,:,] Bs) except *:\n",
    "\n",
    "    cdef unsigned int n,m,k,k2,i,j,l\n",
    "    cdef double tmp\n",
    "    cdef npc.ndarray[double, ndim=2] res\n",
    "    \n",
    "    n = As.shape[0]\n",
    "    k = As.shape[1]\n",
    "    m = Bs.shape[0]\n",
    "    #assert k == k2\n",
    "    \n",
    "    res = np.empty((n, m))\n",
    "    \n",
    "    for i in range(0, n):\n",
    "        for j in range(0, m):\n",
    "            #res[i, j] = np.linalg.norm(As[i] - Bs[j])\n",
    "            tmp = 0\n",
    "            for l in range(0, k):\n",
    "                tmp += (As[i,l] - Bs[j,l])**2\n",
    "            res[i,j] = sqrt(tmp)\n",
    "    return res\n",
    "    \n",
    "cpdef double[:,:,] main(double[:,:,] a, double[:,:,] b) except *:\n",
    "    return pdist_cython(a, b)\n",
    "'''\n",
    "with open('pdist_cython.pyx','w') as f:\n",
    "    f.write(cython_str)\n"
   ]
  },
  {
   "cell_type": "code",
   "execution_count": 6,
   "id": "b1289fae-4bbd-476d-9558-fdf34698f334",
   "metadata": {},
   "outputs": [
    {
     "name": "stdout",
     "output_type": "stream",
     "text": [
      "Compiling pdist_cython.pyx because it changed.\n",
      "[1/1] Cythonizing pdist_cython.pyx\n",
      "running build_ext\n",
      "building 'pdist_cython' extension\n",
      "x86_64-linux-gnu-gcc -pthread -Wno-unused-result -Wsign-compare -DNDEBUG -g -fwrapv -O2 -Wall -g -fstack-protector-strong -Wformat -Werror=format-security -g -fwrapv -O2 -g -fstack-protector-strong -Wformat -Werror=format-security -Wdate-time -D_FORTIFY_SOURCE=2 -fPIC -I/home/trygvrad/.local/lib/python3.8/site-packages/numpy/core/include -I/usr/include/python3.8 -c pdist_cython.c -o build/temp.linux-x86_64-3.8/pdist_cython.o\n"
     ]
    },
    {
     "name": "stderr",
     "output_type": "stream",
     "text": [
      "In file included from /home/trygvrad/.local/lib/python3.8/site-packages/numpy/core/include/numpy/ndarraytypes.h:1969,\n",
      "                 from /home/trygvrad/.local/lib/python3.8/site-packages/numpy/core/include/numpy/ndarrayobject.h:12,\n",
      "                 from /home/trygvrad/.local/lib/python3.8/site-packages/numpy/core/include/numpy/arrayobject.h:4,\n",
      "                 from pdist_cython.c:773:\n",
      "/home/trygvrad/.local/lib/python3.8/site-packages/numpy/core/include/numpy/npy_1_7_deprecated_api.h:17:2: warning: #warning \"Using deprecated NumPy API, disable it with \" \"#define NPY_NO_DEPRECATED_API NPY_1_7_API_VERSION\" [-Wcpp]\n",
      "   17 | #warning \"Using deprecated NumPy API, disable it with \" \\\n",
      "      |  ^~~~~~~\n"
     ]
    },
    {
     "name": "stdout",
     "output_type": "stream",
     "text": [
      "x86_64-linux-gnu-gcc -pthread -shared -Wl,-O1 -Wl,-Bsymbolic-functions -Wl,-Bsymbolic-functions -Wl,-z,relro -g -fwrapv -O2 -Wl,-Bsymbolic-functions -Wl,-z,relro -g -fwrapv -O2 -g -fstack-protector-strong -Wformat -Werror=format-security -Wdate-time -D_FORTIFY_SOURCE=2 build/temp.linux-x86_64-3.8/pdist_cython.o -o build/lib.linux-x86_64-3.8/pdist_cython.cpython-38-x86_64-linux-gnu.so\n",
      "copying build/lib.linux-x86_64-3.8/pdist_cython.cpython-38-x86_64-linux-gnu.so -> \n"
     ]
    }
   ],
   "source": [
    "\n",
    "# setup.py\n",
    "\n",
    "setup_py_cython_str = '''from distutils.core import setup\n",
    "from Cython.Build import cythonize\n",
    "import numpy \n",
    "from setuptools import setup, Extension\n",
    "include = [numpy.get_include()]\n",
    "\n",
    "#args = ['/O2', '/fp:fast', '/Qfast_transcendentals']\n",
    "# above args are for MSVC compiler (windows)\n",
    "\n",
    "# below args are for GCC\n",
    "args = ['-O3', '-ffast-math', '\t-fast-transcendentals']\n",
    "setup(\n",
    "    ext_modules = cythonize([Extension('pdist_cython', sources=['pdist_cython.pyx'], include_dirs=include, extra_compile_args=args)], \n",
    "        compiler_directives={'language_level' : \"3\"},\n",
    "        ),\n",
    "    zip_safe=False, \n",
    "    )\n",
    "'''\n",
    "\n",
    "with open('setup.py','w') as f:\n",
    "    f.write(setup_py_cython_str)\n",
    "\n",
    "import subprocess\n",
    "import sys\n",
    "subprocess.run([sys.executable, \"setup.py\", \"build_ext\", \"--inplace\"]) \n",
    "\n",
    "#import example_cython\n",
    "\n",
    "#print(example_cython.test(5)    )\n",
    "    \n",
    "import pdist_cython\n",
    "#importlib.reload(pdist_cython)"
   ]
  },
  {
   "cell_type": "code",
   "execution_count": null,
   "id": "50d2fc0c-0e96-4e29-98f5-83e0d09bf4aa",
   "metadata": {},
   "outputs": [
    {
     "ename": "",
     "evalue": "",
     "output_type": "error",
     "traceback": [
      "\u001b[1;31mRunning cells with 'c:\\Users\\owner\\AppData\\Local\\Programs\\Python\\Python311\\python.exe' requires the ipykernel package.\n",
      "\u001b[1;31mRun the following command to install 'ipykernel' into the Python environment. \n",
      "\u001b[1;31mCommand: 'c:/Users/owner/AppData/Local/Programs/Python/Python311/python.exe -m pip install ipykernel -U --user --force-reinstall'"
     ]
    }
   ],
   "source": [
    "t0 = time.time()\n",
    "r3 = pdist_cython.main(a,b)\n",
    "t1 = time.time()\n",
    "print(f'cython {t1-t0:.2f} ')\n",
    "#print(r3-r1)"
   ]
  },
  {
   "cell_type": "code",
   "execution_count": 8,
   "id": "35c42f12-7af2-4077-9f8c-2a0f54e2a8bb",
   "metadata": {},
   "outputs": [
    {
     "name": "stdout",
     "output_type": "stream",
     "text": [
      "scipy 0.27 \n"
     ]
    }
   ],
   "source": [
    "import scipy.spatial.distance\n",
    "\n",
    "t0 = time.time()\n",
    "r4 = scipy.spatial.distance.cdist(a,b, 'euclidean')\n",
    "t1 = time.time()\n",
    "print(f'scipy {t1-t0:.2f} ')\n",
    "#print(r4-r1)"
   ]
  },
  {
   "cell_type": "code",
   "execution_count": 9,
   "id": "b20e17ce-c121-4fbf-b00a-f617cab4ccf6",
   "metadata": {},
   "outputs": [],
   "source": [
    "import ctypes\n",
    "import numpy as np\n",
    "\n",
    "def compile_and_link_c_string(s, c_file_name = 'test.c'):\n",
    "    with open(c_file_name,'w') as f:\n",
    "        f.write(s)\n",
    "\n",
    "    from distutils.ccompiler import new_compiler\n",
    "\n",
    "    compiler = new_compiler()\n",
    "\n",
    "    objects = compiler.compile([c_file_name])\n",
    "    so_file_name = c_file_name[:-2]+'.so'\n",
    "    compiler.link(compiler.SHARED_LIBRARY, objects, so_file_name)\n",
    "\n",
    "    c_lib = ctypes.CDLL( so_file_name )\n",
    "    return c_lib\n",
    "import ctypes\n"
   ]
  },
  {
   "cell_type": "code",
   "execution_count": 10,
   "id": "43c247c8-cae8-4c05-b912-5c47fa702d59",
   "metadata": {},
   "outputs": [],
   "source": [
    "c_code_string = '''\n",
    "// test.c\n",
    "\n",
    "#include <stdio.h>\n",
    "#include <math.h>\n",
    "\n",
    "void pdist(int n, int m, int k, const double * indatav_A, const double * indatav_B, double * outdatav) {\n",
    "\n",
    "    const double (*A)[k] = (double (*)[k]) indatav_A;\n",
    "    const double (*B)[k] = (double (*)[k]) indatav_B;    \n",
    "    double (*outdata)[m] = (double (*)[m]) outdatav;    \n",
    "    \n",
    "    int i, j, l;\n",
    "    double tmp, tmp2;\n",
    "    for (i = 0; i < n ; ++i) {\n",
    "        for (j = 0; j < m; ++j){\n",
    "            tmp = 0;\n",
    "            for (l = 0; l < k; l++){\n",
    "                 tmp2 = A[i][l]-B[j][l];\n",
    "                 tmp += tmp2*tmp2;\n",
    "            }\n",
    "            outdata[i][j] = sqrt(tmp);\n",
    "        }\n",
    "    }\n",
    "}\n",
    "\n",
    "'''\n",
    "\n",
    "c_lib = compile_and_link_c_string(c_code_string, c_file_name = 'pdist.c')\n",
    "\n",
    "pdist_c = c_lib.pdist\n",
    "pdist_c.restype = None\n",
    "pdist_c.argtypes = [ctypes.c_int,\n",
    "                    ctypes.c_int,\n",
    "                    ctypes.c_int,\n",
    "                    np.ctypeslib.ndpointer(ctypes.c_double, flags=\"C_CONTIGUOUS\"),\n",
    "                    np.ctypeslib.ndpointer(ctypes.c_double, flags=\"C_CONTIGUOUS\"),\n",
    "                    np.ctypeslib.ndpointer(ctypes.c_double, flags=\"C_CONTIGUOUS\")]\n",
    "\n",
    "   "
   ]
  },
  {
   "cell_type": "code",
   "execution_count": 11,
   "id": "94a6a38e-5994-477f-a5f8-7d064446fa3a",
   "metadata": {},
   "outputs": [
    {
     "name": "stdout",
     "output_type": "stream",
     "text": [
      "c 1.68 s\n"
     ]
    }
   ],
   "source": [
    "\n",
    "t0 = time.time()\n",
    "r5 = np.empty((a.shape[0], b.shape[0]))\n",
    "pdist_c(a.shape[0], b.shape[0], a.shape[1], a, b, r5)\n",
    "t1 = time.time()\n",
    "print(f'c {t1-t0:.2f} s')\n",
    "#print(r5-r1)"
   ]
  },
  {
   "cell_type": "code",
   "execution_count": null,
   "id": "21696308-8030-47ed-8096-7648a84c59b6",
   "metadata": {},
   "outputs": [],
   "source": []
  }
 ],
 "metadata": {
  "kernelspec": {
   "display_name": "Python 3 (ipykernel)",
   "language": "python",
   "name": "python3"
  },
  "language_info": {
   "codemirror_mode": {
    "name": "ipython",
    "version": 3
   },
   "file_extension": ".py",
   "mimetype": "text/x-python",
   "name": "python",
   "nbconvert_exporter": "python",
   "pygments_lexer": "ipython3",
   "version": "3.11.2"
  }
 },
 "nbformat": 4,
 "nbformat_minor": 5
}
